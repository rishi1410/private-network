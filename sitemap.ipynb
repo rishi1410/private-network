{
 "cells": [
  {
   "cell_type": "code",
   "execution_count": null,
   "metadata": {},
   "outputs": [],
   "source": [
    "from urllib.request import urlopen\n",
    "from bs4 import BeautifulSoup\n",
    "import re\n",
    "def internal_links(url,base):\n",
    "    int_link=set()\n",
    "    bs_obj=Formatted_HTML(url)\n",
    "    for link in bs_obj.FindAll('a',href=re.compile((\"^(/|.*\"+base+\")\")\n",
    "def Formatted_HTML(ur):\n",
    "    html=urlopen(url)\n",
    "    return BeatifulSoup(html,'html.parser')"
   ]
  }
 ],
 "metadata": {
  "kernelspec": {
   "display_name": "Python 3",
   "language": "python",
   "name": "python3"
  },
  "language_info": {
   "codemirror_mode": {
    "name": "ipython",
    "version": 3
   },
   "file_extension": ".py",
   "mimetype": "text/x-python",
   "name": "python",
   "nbconvert_exporter": "python",
   "pygments_lexer": "ipython3",
   "version": "3.6.5"
  }
 },
 "nbformat": 4,
 "nbformat_minor": 2
}
