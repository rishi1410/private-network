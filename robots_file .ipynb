{
 "cells": [
  {
   "cell_type": "code",
   "execution_count": 82,
   "metadata": {},
   "outputs": [
    {
     "name": "stdout",
     "output_type": "stream",
     "text": [
      "hostname 'www.facebook.org' doesn't match either of '*.facebook.com', '*.xx.fbcdn.net', '*.fbsbx.com', '*.xz.fbcdn.net', '*.facebook.net', '*.xy.fbcdn.net', '*.messenger.com', 'fb.com', '*.fbcdn.net', '*.fb.com', '*.m.facebook.com', 'messenger.com', 'facebook.com'\n"
     ]
    }
   ],
   "source": [
    "import re\n",
    "import urllib\n",
    "def get_robot(url):\n",
    "    try:\n",
    "        if re.match(('^(https://www\\.).*(\\.(com|org|net|in|edu|int))$'),url.lower()):\n",
    "            return urllib.request.urlopen(str(url+'/robots.txt')).read()\n",
    "        else:\n",
    "            if re.match('^(https://|www\\.).*',url.lower()):\n",
    "                re.sub('^(https://|www.)','https://www.',url,flag=re.IGNORECASE)\n",
    "            else:\n",
    "                url='https://www.'+url\n",
    "            if (url.lower())[-4:] not in ['.org','.net','.edu','.com','.int']:\n",
    "                print('Invalid URL Top level domain name')\n",
    "                return 0\n",
    "            return urllib.request.urlopen(str(url+'/robots.txt')).read()\n",
    "    except Exception as e:\n",
    "        print(e)\n",
    "get_robot('facebook.org')"
   ]
  },
  {
   "cell_type": "code",
   "execution_count": null,
   "metadata": {},
   "outputs": [],
   "source": []
  },
  {
   "cell_type": "code",
   "execution_count": null,
   "metadata": {},
   "outputs": [],
   "source": []
  }
 ],
 "metadata": {
  "kernelspec": {
   "display_name": "Python 3",
   "language": "python",
   "name": "python3"
  },
  "language_info": {
   "codemirror_mode": {
    "name": "ipython",
    "version": 3
   },
   "file_extension": ".py",
   "mimetype": "text/x-python",
   "name": "python",
   "nbconvert_exporter": "python",
   "pygments_lexer": "ipython3",
   "version": "3.6.5"
  }
 },
 "nbformat": 4,
 "nbformat_minor": 2
}
