{
 "cells": [
  {
   "cell_type": "code",
   "execution_count": 24,
   "metadata": {},
   "outputs": [
    {
     "data": {
      "text/plain": [
       "{'http://ocw5.mit.edu/courses/electrical-engineering-and-computer-science/6-034-artificial-intelligence-fall-2010/assignments/lab5.zip#lab5/lab5.py'}"
      ]
     },
     "execution_count": 24,
     "metadata": {},
     "output_type": "execute_result"
    }
   ],
   "source": [
    "from urllib.request import urlopen\n",
    "from bs4 import BeautifulSoup\n",
    "import re\n",
    "def search_edu(uni,keyword,num,typ):\n",
    "    keyword='+'.join(keyword.split(' '))\n",
    "    uni_dic={}\n",
    "    uni_dic['mit']='search.mit'\n",
    "    uni_dic['uc berkely']='www.berkely'\n",
    "    links=set()\n",
    "    for i in range(num):\n",
    "        result=BeautifulSoup(urlopen('http://'+uni_dic[uni.lower()]+'.edu/search?&num='+repr(num)+'&q='+keyword+'&start='+repr(i*num)).read(),'xml')\n",
    "        for link in result.findAll('R',{'N':re.compile('[0-9]+')}):\n",
    "            if len(links)<num:\n",
    "                if re.match('.*(\\.'+typ+')$',link.U.get_text()):\n",
    "                    links.add(link.U.get_text())\n",
    "            else:\n",
    "                return links\n",
    "    return links\n",
    "search_edu('mit','knn',15,'py')"
   ]
  },
  {
   "cell_type": "code",
   "execution_count": null,
   "metadata": {},
   "outputs": [],
   "source": []
  },
  {
   "cell_type": "code",
   "execution_count": null,
   "metadata": {},
   "outputs": [],
   "source": []
  }
 ],
 "metadata": {
  "kernelspec": {
   "display_name": "Python 3",
   "language": "python",
   "name": "python3"
  },
  "language_info": {
   "codemirror_mode": {
    "name": "ipython",
    "version": 3
   },
   "file_extension": ".py",
   "mimetype": "text/x-python",
   "name": "python",
   "nbconvert_exporter": "python",
   "pygments_lexer": "ipython3",
   "version": "3.6.5"
  }
 },
 "nbformat": 4,
 "nbformat_minor": 2
}
