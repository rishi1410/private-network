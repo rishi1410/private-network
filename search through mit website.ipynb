{
 "cells": [
  {
   "cell_type": "code",
   "execution_count": 4,
   "metadata": {
    "ExecuteTime": {
     "end_time": "2018-06-21T17:44:12.362489Z",
     "start_time": "2018-06-21T17:44:08.134696Z"
    },
    "code_folding": []
   },
   "outputs": [
    {
     "data": {
      "text/plain": [
       "{'http://courses.media.mit.edu/2006fall/mas622j/Projects/aisha-web/methodology.html',\n",
       " 'http://courses.media.mit.edu/2015fall/mas834/index.html%3Fp=5006.html',\n",
       " 'http://fab.cba.mit.edu/classes/863.17/EECS/people/natalie/week12.html',\n",
       " 'http://jmlr.csail.mit.edu/papers/v14/guyader13a.html',\n",
       " 'http://jmlr.csail.mit.edu/papers/v18/17-073.html',\n",
       " 'http://jmlr.csail.mit.edu/papers/v18/17-151.html',\n",
       " 'http://lcsl.mit.edu/courses/cbmmss/machine_learning/labs/Lab1.html',\n",
       " 'http://people.csail.mit.edu/billf/project%20pages/sresCode/Markov%20Random%20Fields%20for%20Super-Resolution.html',\n",
       " 'http://projects.csail.mit.edu/jacm/Authors/callahanpaulb.html',\n",
       " 'http://projects.csail.mit.edu/jacm/Authors/kosarajusrao.html',\n",
       " 'http://projects.csail.mit.edu/jacm/References/callahank1995:67.html',\n",
       " 'http://www.ai.mit.edu/courses/6.034b/KNN.html',\n",
       " 'https://affect.media.mit.edu/projectpages/archived/TR-473/TR-473-ABSTRACT.html',\n",
       " 'https://affect.media.mit.edu/projectpages/archived/TR-510/TR-510-ABSTRACT.html',\n",
       " 'https://cognet2.mit.edu/library/erefs/arbib/Arbib_A144.html'}"
      ]
     },
     "execution_count": 4,
     "metadata": {},
     "output_type": "execute_result"
    }
   ],
   "source": [
    "from urllib.request import urlopen\n",
    "from bs4 import BeautifulSoup\n",
    "import re\n",
    "def get_search_url(uni):\n",
    "    search_tag=BeautifulSoup(urlopen('http://www.'+uni+'.edu'),'html.parser').find(action=re.compile('.*search.*'))\n",
    "    search_url=search_tag.attrs['action']\n",
    "    if re.match('.*'+uni+'/.edu.*/.html',search_url):\n",
    "        redirec_url=urlopen(search_url).geturl()[:-5]\n",
    "        return redirec_url\n",
    "    else:\n",
    "        return 'http://www.'+uni+'.edu'+search_url\n",
    "def search_edu(uni,keyword,num,typ):\n",
    "    keyword='+'.join(keyword.split(' '))\n",
    "    get_search_url(uni)\n",
    "    links=set()\n",
    "    for i in range(num):\n",
    "        result=BeautifulSoup(urlopen(get_search_url(uni)+'/&num='+repr(num)+'&as_q='+keyword+'&start='+repr(i*num)).read(),'xml')\n",
    "        for link in result.findAll('R',{'N':re.compile('[0-9]+')}):\n",
    "            if len(links)<num:\n",
    "                if re.match('.*(\\.'+typ+')$',link.U.get_text()):\n",
    "                    links.add(link.U.get_text())\n",
    "            else:\n",
    "                return links\n",
    "    return links\n",
    "def clean_content(content, n):\n",
    "    content = bytes(content, \"UTF-8\")\n",
    "    content = content.decode(\"ascii\", \"ignore\")   \n",
    "    content = re.sub('\\n+', \" \", content)\n",
    "    content = re.sub('\\[[0-9]+\\]',\" \",content)\n",
    "    content = re.sub(' +', \" \", content)  \n",
    "    print(content)\n",
    "    content_list = content.split(' ')    \n",
    "    output = []    \n",
    "    for item in content_list:        \n",
    "        item = item.strip(string.punctuation)\n",
    "        if len(item)>1 or (item.lower()=='a' or item.lower()=='i'):\n",
    "            output.append(item)\n",
    "    return output\n",
    "def ngrams(input, n):    \n",
    "    input = cleanInput(input)    \n",
    "    output = []    \n",
    "    for i in range(len(input)-n+1):        \n",
    "        output.append(input[i:i+n])    \n",
    "    return output\n",
    "def dic_ngrams(input,n):\n",
    "    ngram_list=ngram(input,n)\n",
    "    list_ngram_senten=[]\n",
    "    for word_list in ngram_list:\n",
    "        list_ngram_senten.append(' '.join(word_list))\n",
    "    return list_ngram_senten\n",
    "def markov_chain\n",
    "search_edu('mit','k-nearest neighbors',15,'html')"
   ]
  },
  {
   "cell_type": "code",
   "execution_count": null,
   "metadata": {},
   "outputs": [],
   "source": []
  },
  {
   "cell_type": "code",
   "execution_count": null,
   "metadata": {},
   "outputs": [],
   "source": []
  }
 ],
 "metadata": {
  "kernelspec": {
   "display_name": "Python 3",
   "language": "python",
   "name": "python3"
  },
  "language_info": {
   "codemirror_mode": {
    "name": "ipython",
    "version": 3
   },
   "file_extension": ".py",
   "mimetype": "text/x-python",
   "name": "python",
   "nbconvert_exporter": "python",
   "pygments_lexer": "ipython3",
   "version": "3.6.5"
  },
  "toc": {
   "base_numbering": 1,
   "nav_menu": {},
   "number_sections": true,
   "sideBar": true,
   "skip_h1_title": false,
   "title_cell": "Table of Contents",
   "title_sidebar": "Contents",
   "toc_cell": false,
   "toc_position": {},
   "toc_section_display": true,
   "toc_window_display": false
  },
  "varInspector": {
   "cols": {
    "lenName": 16,
    "lenType": 16,
    "lenVar": 40
   },
   "kernels_config": {
    "python": {
     "delete_cmd_postfix": "",
     "delete_cmd_prefix": "del ",
     "library": "var_list.py",
     "varRefreshCmd": "print(var_dic_list())"
    },
    "r": {
     "delete_cmd_postfix": ") ",
     "delete_cmd_prefix": "rm(",
     "library": "var_list.r",
     "varRefreshCmd": "cat(var_dic_list()) "
    }
   },
   "types_to_exclude": [
    "module",
    "function",
    "builtin_function_or_method",
    "instance",
    "_Feature"
   ],
   "window_display": false
  }
 },
 "nbformat": 4,
 "nbformat_minor": 2
}
