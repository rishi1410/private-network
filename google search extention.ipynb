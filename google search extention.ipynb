{
 "cells": [
  {
   "cell_type": "code",
   "execution_count": 39,
   "metadata": {
    "ExecuteTime": {
     "end_time": "2018-06-28T19:12:04.932087Z",
     "start_time": "2018-06-28T19:11:49.136334Z"
    }
   },
   "outputs": [
    {
     "name": "stderr",
     "output_type": "stream",
     "text": [
      "C:\\Users\\rishi\\Anaconda3\\lib\\site-packages\\bs4\\__init__.py:181: UserWarning: No parser was explicitly specified, so I'm using the best available HTML parser for this system (\"lxml\"). This usually isn't a problem, but if you run this code on another system, or in a different virtual environment, it may use a different parser and behave differently.\n",
      "\n",
      "The code that caused this warning is on line 193 of the file C:\\Users\\rishi\\Anaconda3\\lib\\runpy.py. To get rid of this warning, change code that looks like this:\n",
      "\n",
      " BeautifulSoup(YOUR_MARKUP})\n",
      "\n",
      "to this:\n",
      "\n",
      " BeautifulSoup(YOUR_MARKUP, \"lxml\")\n",
      "\n",
      "  markup_type=markup_type))\n"
     ]
    },
    {
     "data": {
      "text/plain": [
       "({'http://citeseerx.ist.psu.edu/viewdoc/download?doi=10.1.1.663.9302&rep=rep1&type=pdf',\n",
       "  'http://clair.si.umich.edu/~radev/papers/tc.pdf',\n",
       "  'http://cs.du.edu/~mitchell/mario_books/Introduction_to_Machine_Learning_-_2e_-_Ethem_Alpaydin.pdf',\n",
       "  'http://cs.tsu.edu/ghemri/CS497/ClassNotes/ML/LazyLearningkNN.pdf',\n",
       "  'http://cs229.stanford.edu/proj2006/HongTsamis-KNNForNetflix.pdf',\n",
       "  'http://cse.seu.edu.cn/people/zhangml/files/ICTAI10.pdf',\n",
       "  'http://cse.ucdenver.edu/~bdlab/papers/27.pdf',\n",
       "  'http://dbgroup.cs.tsinghua.edu.cn/ligl/papers/icde17-vtree.pdf',\n",
       "  'http://gamma.cs.unc.edu/KNN/gpuknn.pdf',\n",
       "  'http://jmlr.csail.mit.edu/papers/volume10/weinberger09a/weinberger09a.pdf',\n",
       "  'http://padas.ices.utexas.edu/static/papers/knn.pdf',\n",
       "  'http://people.bu.edu/bkulis/pubs/cvpr_adapt.pdf',\n",
       "  'http://research.cs.tamu.edu/prism/lectures/pr/pr_l8.pdf',\n",
       "  'http://staff.itee.uq.edu.au/zxf/_papers/sigmod510-zheng.pdf',\n",
       "  'http://stann.cs.fsu.edu/~piyush/papers/tvcg_stann.pdf',\n",
       "  'http://ttic.uchicago.edu/~gregory/courses/LargeScaleLearning/lectures/nn_intro.pdf',\n",
       "  'http://users.eecs.northwestern.edu/~xsh835/assets/cvpr15_humanparsing.pdf',\n",
       "  'http://users.monash.edu.au/~nzaidi/papers/paper6h.pdf',\n",
       "  'http://web.cs.ucla.edu/~zaniolo/papers/pkdd05Porto.pdf',\n",
       "  'http://web.mst.edu/~wjiang/SkNN-ICDE14.pdf',\n",
       "  'http://www.comp.nus.edu.sg/~ooibc/gorder.pdf',\n",
       "  'http://www.cs.cmu.edu/~agray/approxnn.pdf',\n",
       "  'http://www.cs.cornell.edu/courses/cs4758/2012sp/materials/cs4758-knn-lectureslides.pdf',\n",
       "  'http://www.cs.cornell.edu/~kilian/papers/icml2008a.pdf',\n",
       "  'http://www.cs.cornell.edu/~kilian/papers/spm2010.pdf',\n",
       "  'http://www.cs.princeton.edu/cass/papers/www11.pdf',\n",
       "  'http://www.cs.upc.edu/~bejar/apren/docum/trans/03d-algind-knn-eng.pdf',\n",
       "  'http://www.cse.usf.edu/~r1k/DocumentImageAnalysis/DIA.pdf',\n",
       "  'http://www.d.umn.edu/~deoka001/downloads/K_Nearest_Neighbor_Algorithm.pdf',\n",
       "  'http://www.mysmu.edu/faculty/bhzheng/paper/ICDE09_VRNN.pdf',\n",
       "  'http://www.princeton.edu/~samory/Papers/kNNRegressionLocRatesFullVersion.pdf',\n",
       "  'http://www.public.iastate.edu/~maitra/stat501/lectures/kNN.pdf',\n",
       "  'https://analytics.ncsu.edu/sesug/2012/SD-09.pdf',\n",
       "  'https://cs.gmu.edu/~carlotta/publications/NNensemble.pdf',\n",
       "  'https://cs.nju.edu.cn/zhouzh/zhouzh.files/publication/pr07.pdf',\n",
       "  'https://etd.lib.metu.edu.tr/upload/12609548/index.pdf',\n",
       "  'https://ftp.cse.unsw.edu.au/~lxue/paper/rankKNN.pdf',\n",
       "  'https://infolab.usc.edu/DocsDemos/stdbm04_k.pdf',\n",
       "  'https://people.eng.unimelb.edu.au/zr/publications/GeoInformatica-HD-kNNJoin.pdf',\n",
       "  'https://people.eng.unimelb.edu.au/zr/publications/IS2014-CVkNN.pdf',\n",
       "  'https://people.eng.unimelb.edu.au/zr/publications/Icde09Demo_Vstar.pdf',\n",
       "  'https://umexpert.um.edu.my/file/publication/00013668_148019_68498.pdf',\n",
       "  'https://www.cc.gatech.edu/~lingliu/papers/2006/p840-cikm06.pdf',\n",
       "  'https://www.cs.toronto.edu/~cuty/icdm09.pdf',\n",
       "  'https://www.ssc.wisc.edu/~bhansen/718/NonParametrics10.pdf',\n",
       "  'https://www.utdallas.edu/~lkhan/papers/feb10/04740552.pdf'},\n",
       " 46,\n",
       " 17400000)"
      ]
     },
     "execution_count": 39,
     "metadata": {},
     "output_type": "execute_result"
    }
   ],
   "source": [
    "import requests\n",
    "from bs4 import BeautifulSoup\n",
    "\n",
    "\n",
    "USER_AGENT = {'User-Agent':'Mozilla/5.0 (Windows NT 10.0; Win64; x64) AppleWebKit/537.36 (KHTML, like Gecko) Chrome/61.0.3163.100 Safari/537.36'}\n",
    "\n",
    "\n",
    "def fetch_results(search_term, number_results, language_code,start):\n",
    "    assert isinstance(search_term, str), 'Search term must be a string'\n",
    "    assert isinstance(number_results, int), 'Number of results must be an integer'\n",
    "    escaped_search_term = search_term.replace(' ', '+')\n",
    "    google_url = 'https://www.google.com/search?q={}&num={}&hl={}&start={}'.format(escaped_search_term, number_results, language_code,start)\n",
    "    response = requests.get(google_url, headers=USER_AGENT)\n",
    "    response.raise_for_status()\n",
    "\n",
    "    return search_term, response.text,\n",
    "\n",
    "def google_search_extention(keyword,num_of_res=15,uni='edu',typ=''):\n",
    "    try:\n",
    "        keyword, html= fetch_results(keyword+' '+uni+' '+typ,num_of_res, 'en',0)\n",
    "        links=set()\n",
    "        results=BeautifulSoup(html)\n",
    "        num_of=(results.find('div',{'id':'resultStats'})).get_text()\n",
    "        number=int(num_of[num_of.find('About')+6:num_of.find('results')].replace(',',''))\n",
    "        if num_of_res==15:\n",
    "            num_of_res_show=number\n",
    "        else:\n",
    "            num_of_res_show=num_of_res\n",
    "        for i in range(number):\n",
    "            keyword, html= fetch_results(keyword+' '+uni+' '+typ,num_of_res, 'en',i*num_of_res)\n",
    "            results=BeautifulSoup(html)\n",
    "            str_num_of=(results.find('div',{'id':'resultStats'})).get_text()\n",
    "            for reference in results.findAll('h3',{'class':'r'}):\n",
    "                if reference.find_all('a') != None:\n",
    "                    if (reference.a.attrs['href']).endswith(typ) and (reference.a.attrs['href']).find('.'+uni) > -1:\n",
    "                        links.add(reference.a.attrs['href'])\n",
    "                    if len(links)==num_of_res_show:\n",
    "                        return links\n",
    "    except:\n",
    "        pass\n",
    "    return links,len(links),number\n",
    "google_search_extention('knn',typ='pdf')"
   ]
  },
  {
   "cell_type": "code",
   "execution_count": null,
   "metadata": {},
   "outputs": [],
   "source": []
  }
 ],
 "metadata": {
  "kernelspec": {
   "display_name": "Python 3",
   "language": "python",
   "name": "python3"
  },
  "language_info": {
   "codemirror_mode": {
    "name": "ipython",
    "version": 3
   },
   "file_extension": ".py",
   "mimetype": "text/x-python",
   "name": "python",
   "nbconvert_exporter": "python",
   "pygments_lexer": "ipython3",
   "version": "3.6.5"
  },
  "toc": {
   "base_numbering": 1,
   "nav_menu": {},
   "number_sections": true,
   "sideBar": true,
   "skip_h1_title": false,
   "title_cell": "Table of Contents",
   "title_sidebar": "Contents",
   "toc_cell": false,
   "toc_position": {},
   "toc_section_display": true,
   "toc_window_display": false
  },
  "varInspector": {
   "cols": {
    "lenName": 16,
    "lenType": 16,
    "lenVar": 40
   },
   "kernels_config": {
    "python": {
     "delete_cmd_postfix": "",
     "delete_cmd_prefix": "del ",
     "library": "var_list.py",
     "varRefreshCmd": "print(var_dic_list())"
    },
    "r": {
     "delete_cmd_postfix": ") ",
     "delete_cmd_prefix": "rm(",
     "library": "var_list.r",
     "varRefreshCmd": "cat(var_dic_list()) "
    }
   },
   "types_to_exclude": [
    "module",
    "function",
    "builtin_function_or_method",
    "instance",
    "_Feature"
   ],
   "window_display": false
  }
 },
 "nbformat": 4,
 "nbformat_minor": 2
}
