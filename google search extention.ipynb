{
 "cells": [
  {
   "cell_type": "code",
   "execution_count": 31,
   "metadata": {
    "ExecuteTime": {
     "end_time": "2018-06-28T18:20:31.367176Z",
     "start_time": "2018-06-28T18:20:27.531401Z"
    }
   },
   "outputs": [
    {
     "name": "stderr",
     "output_type": "stream",
     "text": [
      "C:\\Users\\rishi\\Anaconda3\\lib\\site-packages\\bs4\\__init__.py:181: UserWarning: No parser was explicitly specified, so I'm using the best available HTML parser for this system (\"lxml\"). This usually isn't a problem, but if you run this code on another system, or in a different virtual environment, it may use a different parser and behave differently.\n",
      "\n",
      "The code that caused this warning is on line 193 of the file C:\\Users\\rishi\\Anaconda3\\lib\\runpy.py. To get rid of this warning, change code that looks like this:\n",
      "\n",
      " BeautifulSoup(YOUR_MARKUP})\n",
      "\n",
      "to this:\n",
      "\n",
      " BeautifulSoup(YOUR_MARKUP, \"lxml\")\n",
      "\n",
      "  markup_type=markup_type))\n"
     ]
    },
    {
     "data": {
      "text/plain": [
       "{'ftp://ftp.broadinstitute.org/distribution/genepattern/dev_archive/ImputeMissingValues.KNN/broad.mit.edu:cancer.software.genepattern.module.analysis/00054/11.3/ImputeMissingValues.KNN.pdf',\n",
       " 'http://citeseerx.ist.psu.edu/viewdoc/download?doi=10.1.1.638.6188&rep=rep1&type=pdf',\n",
       " 'http://courses.washington.edu/ling572/winter2017/teaching_slides/class5_kNN.pdf',\n",
       " 'http://cs.carleton.edu/cs_comps/0910/netflixprize/final_results/knn/index.html',\n",
       " 'http://cse.ucdenver.edu/~bdlab/papers/27.pdf',\n",
       " 'http://murphylab.web.cmu.edu/publications/boland/boland_node51.html',\n",
       " 'http://staff.itee.uq.edu.au/zxf/_papers/sigmod510-zheng.pdf',\n",
       " 'http://vision.stanford.edu/teaching/cs231n-demos/knn/',\n",
       " 'http://www.cs.cornell.edu/courses/cs4758/2012sp/materials/cs4758-knn-lectureslides.pdf',\n",
       " 'http://www2.stat.duke.edu/~rcs46/lectures_2017/03-lr/03-knn.pdf',\n",
       " 'https://cs.nju.edu.cn/zhouzh/zhouzh.files/publication/pr07.pdf',\n",
       " 'https://infolab.usc.edu/DocsDemos/stdbm04_k.pdf',\n",
       " 'https://nlp.stanford.edu/IR-book/html/htmledition/k-nearest-neighbor-1.html',\n",
       " 'https://people.engr.ncsu.edu/xshen5/Publications/icde17.pdf',\n",
       " 'https://www3.nd.edu/~steve/computing_with_data/17_Refining_kNN/refining_knn.html'}"
      ]
     },
     "execution_count": 31,
     "metadata": {},
     "output_type": "execute_result"
    }
   ],
   "source": [
    "import requests\n",
    "from bs4 import BeautifulSoup\n",
    "\n",
    "\n",
    "USER_AGENT = {'User-Agent':'Mozilla/5.0 (Windows NT 10.0; Win64; x64) AppleWebKit/537.36 (KHTML, like Gecko) Chrome/61.0.3163.100 Safari/537.36'}\n",
    "\n",
    "\n",
    "def fetch_results(search_term, number_results, language_code,start):\n",
    "    assert isinstance(search_term, str), 'Search term must be a string'\n",
    "    assert isinstance(number_results, int), 'Number of results must be an integer'\n",
    "    escaped_search_term = search_term.replace(' ', '+')\n",
    "    google_url = 'https://www.google.com/search?q={}&num={}&hl={}&start={}'.format(escaped_search_term, number_results, language_code,start)\n",
    "    response = requests.get(google_url, headers=USER_AGENT)\n",
    "    response.raise_for_status()\n",
    "\n",
    "    return search_term, response.text,\n",
    "\n",
    "def google_search_extention(keyword,num_of_res=15,uni='edu',typ=''):\n",
    "    keyword, html= fetch_results(keyword+' '+uni+' '+typ,num_of_res, 'en',0)\n",
    "    links=set()\n",
    "    results=BeautifulSoup(html)\n",
    "    num_of=(results.find('div',{'id':'resultStats'})).get_text()\n",
    "    number=int(num_of[num_of.find('About')+6:num_of.find('results')].replace(',',''))\n",
    "    for i in range(number):\n",
    "        keyword, html= fetch_results(keyword+' '+uni+' '+typ,num_of_res, 'en',i*num_of_res)\n",
    "        results=BeautifulSoup(html)\n",
    "        str_num_of=(results.find('div',{'id':'resultStats'})).get_text()\n",
    "        for reference in results.findAll('h3',{'class':'r'}):\n",
    "            if reference.find_all('a') != None:\n",
    "                if (reference.a.attrs['href']).endswith(typ) and (reference.a.attrs['href']).find('.'+uni) > -1:\n",
    "                    links.add(reference.a.attrs['href'])\n",
    "                if len(links)==num_of_res:\n",
    "                    return links\n",
    "    return links\n",
    "google_search_extention('knn')"
   ]
  },
  {
   "cell_type": "code",
   "execution_count": null,
   "metadata": {},
   "outputs": [],
   "source": []
  }
 ],
 "metadata": {
  "kernelspec": {
   "display_name": "Python 3",
   "language": "python",
   "name": "python3"
  },
  "language_info": {
   "codemirror_mode": {
    "name": "ipython",
    "version": 3
   },
   "file_extension": ".py",
   "mimetype": "text/x-python",
   "name": "python",
   "nbconvert_exporter": "python",
   "pygments_lexer": "ipython3",
   "version": "3.6.5"
  },
  "toc": {
   "base_numbering": 1,
   "nav_menu": {},
   "number_sections": true,
   "sideBar": true,
   "skip_h1_title": false,
   "title_cell": "Table of Contents",
   "title_sidebar": "Contents",
   "toc_cell": false,
   "toc_position": {},
   "toc_section_display": true,
   "toc_window_display": false
  },
  "varInspector": {
   "cols": {
    "lenName": 16,
    "lenType": 16,
    "lenVar": 40
   },
   "kernels_config": {
    "python": {
     "delete_cmd_postfix": "",
     "delete_cmd_prefix": "del ",
     "library": "var_list.py",
     "varRefreshCmd": "print(var_dic_list())"
    },
    "r": {
     "delete_cmd_postfix": ") ",
     "delete_cmd_prefix": "rm(",
     "library": "var_list.r",
     "varRefreshCmd": "cat(var_dic_list()) "
    }
   },
   "types_to_exclude": [
    "module",
    "function",
    "builtin_function_or_method",
    "instance",
    "_Feature"
   ],
   "window_display": false
  }
 },
 "nbformat": 4,
 "nbformat_minor": 2
}
