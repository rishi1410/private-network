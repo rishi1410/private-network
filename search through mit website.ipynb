{
 "cells": [
  {
   "cell_type": "code",
   "execution_count": 20,
   "metadata": {},
   "outputs": [
    {
     "data": {
      "text/plain": [
       "{'http://people.csail.mit.edu/pcm/papers/LSHatLarge.pdf',\n",
       " 'http://people.csail.mit.edu/stavrosp/papers/vldb2010/VLDB10_PIRkNN.pdf',\n",
       " 'http://web.mit.edu/panic11/talks/monday/PARALLEL-1D/5-1510/fujioka/406-0-panic11_fujioka.pdf',\n",
       " 'https://devavrat.mit.edu/wp-content/uploads/2017/10/Belief-propagation-an-asymptotically-optimal-algorithm-for-the-random-assignment-problem.pdf',\n",
       " 'https://ocw.mit.edu/courses/electrical-engineering-and-computer-science/6-034-artificial-intelligence-fall-2010/tutorials/MIT6_034F10_tutor03.pdf'}"
      ]
     },
     "execution_count": 20,
     "metadata": {},
     "output_type": "execute_result"
    }
   ],
   "source": [
    "from urllib.request import urlopen\n",
    "from bs4 import BeautifulSoup\n",
    "import re\n",
    "def search_edu(uni,keyword,num,typ):\n",
    "    keyword='+'.join(keyword.split(' '))\n",
    "    uni_dic={}\n",
    "    uni_dic['mit']='search.mit'\n",
    "    uni_dic['uc berkely']='www.berkely'\n",
    "    links=set()\n",
    "    for i in range(num):\n",
    "        result=BeautifulSoup(urlopen('http://'+uni_dic[uni.lower()]+'.edu/search?&num='+repr(num)+'&q='+keyword+'&start='+repr(i*num)).read(),'xml')\n",
    "        for link in result.findAll('R',{'N':re.compile('[0-9]+')}):\n",
    "            if len(links)<num:\n",
    "                if re.match('.*(\\.'+typ+')$',link.U.get_text()):\n",
    "                    links.add(link.U.get_text())\n",
    "            else:\n",
    "                return links\n",
    "    return links\n",
    "search_edu('mit','knn',5,'pdf')"
   ]
  },
  {
   "cell_type": "code",
   "execution_count": null,
   "metadata": {},
   "outputs": [],
   "source": []
  },
  {
   "cell_type": "code",
   "execution_count": null,
   "metadata": {},
   "outputs": [],
   "source": []
  }
 ],
 "metadata": {
  "kernelspec": {
   "display_name": "Python 3",
   "language": "python",
   "name": "python3"
  },
  "language_info": {
   "codemirror_mode": {
    "name": "ipython",
    "version": 3
   },
   "file_extension": ".py",
   "mimetype": "text/x-python",
   "name": "python",
   "nbconvert_exporter": "python",
   "pygments_lexer": "ipython3",
   "version": "3.6.5"
  }
 },
 "nbformat": 4,
 "nbformat_minor": 2
}
